{
 "cells": [
  {
   "cell_type": "markdown",
   "metadata": {},
   "source": [
    "https://www.reddit.com/r/LangChain/comments/13jd9wo/improving_the_quality_of_qa_with_pdf/"
   ]
  },
  {
   "cell_type": "code",
   "execution_count": 22,
   "metadata": {},
   "outputs": [],
   "source": [
    "from dotenv import load_dotenv"
   ]
  },
  {
   "cell_type": "code",
   "execution_count": 23,
   "metadata": {},
   "outputs": [],
   "source": [
    "if not load_dotenv():\n",
    "    print(\"Cannot load .env file. Environment file is not exists or not readable\")\n",
    "    exit(1)"
   ]
  },
  {
   "cell_type": "code",
   "execution_count": 24,
   "metadata": {},
   "outputs": [],
   "source": [
    "from langchain.document_loaders import PyPDFLoader"
   ]
  },
  {
   "cell_type": "code",
   "execution_count": 25,
   "metadata": {},
   "outputs": [],
   "source": [
    "from langchain.vectorstores import Chroma\n",
    "from langchain.embeddings import HuggingFaceEmbeddings\n",
    "from langchain.docstore.document import Document\n"
   ]
  },
  {
   "cell_type": "code",
   "execution_count": 26,
   "metadata": {},
   "outputs": [],
   "source": [
    "import os\n",
    "import glob\n",
    "from typing import List"
   ]
  },
  {
   "cell_type": "code",
   "execution_count": 27,
   "metadata": {},
   "outputs": [],
   "source": [
    "# handle unstructured table\n",
    "\n",
    "from langchain.document_loaders.parsers.pdf import PDFPlumberParser, PDFMinerParser"
   ]
  },
  {
   "cell_type": "code",
   "execution_count": 28,
   "metadata": {},
   "outputs": [],
   "source": [
    "from langchain.document_loaders import (\n",
    "    CSVLoader,\n",
    "    EverNoteLoader,\n",
    "    TextLoader,\n",
    "    UnstructuredHTMLLoader,\n",
    "    UnstructuredMarkdownLoader,\n",
    "    UnstructuredODTLoader,\n",
    "    UnstructuredPowerPointLoader,\n",
    "    UnstructuredWordDocumentLoader,\n",
    "    PyMuPDFLoader,\n",
    "    PyPDFLoader\n",
    ")"
   ]
  },
  {
   "cell_type": "code",
   "execution_count": 29,
   "metadata": {},
   "outputs": [],
   "source": [
    "LOADER_MAPPING = {\n",
    "    \".csv\": (CSVLoader, {}),\n",
    "    \".doc\": (UnstructuredWordDocumentLoader, {}),\n",
    "    \".docx\": (UnstructuredWordDocumentLoader, {}),\n",
    "    \".enex\": (EverNoteLoader, {}),\n",
    "    \".html\": (UnstructuredHTMLLoader, {}),\n",
    "    \".md\": (UnstructuredMarkdownLoader, {}),\n",
    "    \".odt\": (UnstructuredODTLoader, {}),\n",
    "    \".pdf\": (PyPDFLoader, {}),\n",
    "    \".ppt\": (UnstructuredPowerPointLoader, {}),\n",
    "    \".pptx\": (UnstructuredPowerPointLoader, {}),\n",
    "    \".txt\": (TextLoader, {\"encoding\": \"utf8\"})\n",
    "}"
   ]
  },
  {
   "cell_type": "code",
   "execution_count": 30,
   "metadata": {},
   "outputs": [],
   "source": [
    "def load_single_document(file_path: str) -> List[Document]:\n",
    "    ext = \".\" + file_path.rsplit(\".\", 1)[-1].lower()\n",
    "    if ext in LOADER_MAPPING:\n",
    "        loader_class, loader_args = LOADER_MAPPING[ext]\n",
    "        loader = loader_class(file_path, **loader_args)\n",
    "        return loader.load()\n",
    "\n",
    "    raise ValueError(f\"Unsupported file extension '{ext}'\")"
   ]
  },
  {
   "cell_type": "code",
   "execution_count": 31,
   "metadata": {},
   "outputs": [],
   "source": [
    "from multiprocessing import Pool\n",
    "from tqdm import tqdm"
   ]
  },
  {
   "cell_type": "code",
   "execution_count": 32,
   "metadata": {},
   "outputs": [],
   "source": [
    "def load_documents(source_dir: str, ignored_files: List[str] = []) -> List[Document]: \n",
    "    all_files = []\n",
    "    for ext in LOADER_MAPPING:\n",
    "        all_files.extend(\n",
    "            glob.glob(os.path.join(source_dir, f\"**/*{ext.lower()}\"), recursive=True)\n",
    "            )\n",
    "    filtered_files = [file_path for file_path in all_files if file_path not in ignored_files]\n",
    "\n",
    "    results = []\n",
    "    with tqdm(total=len(filtered_files), desc='Loading new documents', ncols=80) as pbar:\n",
    "        for file_path in filtered_files:\n",
    "            docs = load_single_document(file_path)\n",
    "            if docs:\n",
    "                results.extend(docs)\n",
    "                pbar.update()\n",
    "\n",
    "    return results"
   ]
  },
  {
   "cell_type": "code",
   "execution_count": 33,
   "metadata": {},
   "outputs": [],
   "source": [
    "from langchain.text_splitter import RecursiveCharacterTextSplitter, CharacterTextSplitter\n",
    "\n",
    "def get_text_splitter(chunk_size : int = 500, chunk_overlap : int =0, separators : list[str] = [\"\\n\"], type : str = 'recursive'):\n",
    "    \n",
    "    if type == \"char\":\n",
    "        text_splitter = CharacterTextSplitter(\n",
    "            separators=separators,\n",
    "            chunk_size=chunk_size, \n",
    "            chunk_overlap=chunk_overlap,\n",
    "            length_function=len)\n",
    "    else:\n",
    "        text_splitter = RecursiveCharacterTextSplitter(\n",
    "            separators=separators,\n",
    "            chunk_size=chunk_size, \n",
    "            chunk_overlap=chunk_overlap,\n",
    "            length_function=len)\n",
    "    \n",
    "    return text_splitter\n"
   ]
  },
  {
   "cell_type": "code",
   "execution_count": 34,
   "metadata": {},
   "outputs": [],
   "source": [
    "# Load environment variables\n",
    "persist_directory = os.environ.get('PERSIST_DIRECTORY')\n",
    "source_directory = os.environ.get('SOURCE_DIRECTORY', 'src_documents')\n",
    "embeddings_model_name = os.environ.get('EMBEDDINGS_MODEL_NAME')"
   ]
  },
  {
   "cell_type": "code",
   "execution_count": 35,
   "metadata": {},
   "outputs": [],
   "source": [
    "def process_documents(chunk_size: int = 500, chunk_overlap: int = 20, ignored_files: List[str] = []) -> List[Document]:\n",
    "    \"\"\"\n",
    "    Load documents and split in chunks\n",
    "    \"\"\"\n",
    "    print(f\"Loading documents from {source_directory}\")\n",
    "    documents = load_documents(source_directory, ignored_files)\n",
    "    documents = list(filter(None, documents))\n",
    "    if not documents:\n",
    "        print(\"No new documents to load\")\n",
    "        return None\n",
    "    print(f\"Loaded {len(documents)} new documents from {source_directory}\")\n",
    "    print(documents)\n",
    "    text_splitter = get_text_splitter(chunk_size=chunk_size, chunk_overlap=chunk_overlap)\n",
    "    texts = text_splitter.split_documents(documents)\n",
    "    print(f\"Split into {len(texts)} chunks of text (max. {chunk_size} tokens each)\")\n",
    "    \n",
    "    return texts"
   ]
  },
  {
   "cell_type": "code",
   "execution_count": 36,
   "metadata": {},
   "outputs": [],
   "source": [
    "def vectorstore_exist(persist_directory: str, embeddings: HuggingFaceEmbeddings, settings) -> bool:\n",
    "    \"\"\"\n",
    "    Checks if vectorstore exists\n",
    "    \"\"\"\n",
    "    db = Chroma(persist_directory=persist_directory, embedding_function=embeddings, client_settings=settings)\n",
    "    if not db.get()['documents']:\n",
    "        return False\n",
    "    return True"
   ]
  },
  {
   "cell_type": "code",
   "execution_count": 37,
   "metadata": {},
   "outputs": [],
   "source": [
    "from constants import CHROMA_SETTINGS\n",
    "import chromadb"
   ]
  },
  {
   "cell_type": "code",
   "execution_count": 38,
   "metadata": {},
   "outputs": [],
   "source": [
    "def ingestion():\n",
    "    # Create embeddings\n",
    "    embeddings = HuggingFaceEmbeddings(model_name=embeddings_model_name)\n",
    "    # Chroma persistent client\n",
    "    chroma_client = chromadb.PersistentClient(settings=CHROMA_SETTINGS , path=persist_directory)\n",
    "\n",
    "    if vectorstore_exist(persist_directory, embeddings, CHROMA_SETTINGS):\n",
    "        # update vector db\n",
    "        print(f\"Appending to existing vectorstore at {persist_directory}\")\n",
    "        db = Chroma(persist_directory=persist_directory, embedding_function=embeddings, client_settings=CHROMA_SETTINGS, client=chroma_client)\n",
    "        collection = db.get()\n",
    "        print(collection)\n",
    "        texts = process_documents(\n",
    "            chunk_size=800,\n",
    "            chunk_overlap=50,\n",
    "            ignored_files=[metadata['source'] for metadata in collection['metadatas']]\n",
    "            )\n",
    "        if texts is not None:\n",
    "            print(\"Creating embeddings...\")\n",
    "            db.add_documents(texts)\n",
    "    else:\n",
    "        # Create and store in vector db\n",
    "        print(\"Creating new vectorstore\")\n",
    "        texts = process_documents(\n",
    "            chunk_size=800,\n",
    "            chunk_overlap=50\n",
    "            )\n",
    "        print(\"Creating embeddings...\")\n",
    "        db = Chroma.from_documents(texts, embeddings, persist_directory=persist_directory, client_settings=CHROMA_SETTINGS, client=chroma_client)\n",
    "\n",
    "    if texts:\n",
    "        db.persist()\n",
    "        db = None\n",
    "\n",
    "        print(\"Ingestion complete.\")\n",
    "    else:\n",
    "        print(\"Nothing to ingest.\")"
   ]
  },
  {
   "cell_type": "code",
   "execution_count": 39,
   "metadata": {},
   "outputs": [
    {
     "name": "stdout",
     "output_type": "stream",
     "text": [
      "Appending to existing vectorstore at db\n",
      "{'ids': ['11e4b188-a00d-11ee-8b75-047c164e49b3', '11e4b189-a00d-11ee-bed0-047c164e49b3', '11e4b18a-a00d-11ee-87b5-047c164e49b3', '11e4b18b-a00d-11ee-b42f-047c164e49b3', '11e4b18c-a00d-11ee-be11-047c164e49b3', '11e4b18d-a00d-11ee-9b1d-047c164e49b3', '11e4b18e-a00d-11ee-b541-047c164e49b3', '11e4b18f-a00d-11ee-8af4-047c164e49b3', '11e4b190-a00d-11ee-ace5-047c164e49b3', '11e4b191-a00d-11ee-bfce-047c164e49b3', '11e4b192-a00d-11ee-9894-047c164e49b3', '11e4b193-a00d-11ee-8e81-047c164e49b3', '11e4b194-a00d-11ee-af69-047c164e49b3', '11e4b195-a00d-11ee-810d-047c164e49b3', '11e4b196-a00d-11ee-bc85-047c164e49b3', '11e4b197-a00d-11ee-9615-047c164e49b3', '11e4b198-a00d-11ee-aa4f-047c164e49b3', '11e4b199-a00d-11ee-af7f-047c164e49b3', '11e4b19a-a00d-11ee-8f74-047c164e49b3', '11e4b19b-a00d-11ee-8daa-047c164e49b3', '11e4b19c-a00d-11ee-9f0e-047c164e49b3', '11e4b19d-a00d-11ee-a05a-047c164e49b3', '11e4b19e-a00d-11ee-b135-047c164e49b3', '11e4b19f-a00d-11ee-b912-047c164e49b3', '11e4b1a0-a00d-11ee-8478-047c164e49b3', '11e4b1a1-a00d-11ee-a75f-047c164e49b3', '11e4b1a2-a00d-11ee-aff9-047c164e49b3', '11e4b1a3-a00d-11ee-b285-047c164e49b3', '11e4b1a4-a00d-11ee-9aea-047c164e49b3', '11e4b1a5-a00d-11ee-a790-047c164e49b3', '11e4b1a6-a00d-11ee-95d5-047c164e49b3', '11e4b1a7-a00d-11ee-affa-047c164e49b3', '11e4b1a8-a00d-11ee-aa3a-047c164e49b3', '11e4b1a9-a00d-11ee-b70e-047c164e49b3', '11e4b1aa-a00d-11ee-8974-047c164e49b3', '11e4b1ab-a00d-11ee-9ca5-047c164e49b3', '11e4b1ac-a00d-11ee-9674-047c164e49b3', '11e4b1ad-a00d-11ee-80be-047c164e49b3', '11e4b1ae-a00d-11ee-b8b8-047c164e49b3', '11e4b1af-a00d-11ee-9a1a-047c164e49b3', '11e4b1b0-a00d-11ee-9354-047c164e49b3', '11e4b1b1-a00d-11ee-9acb-047c164e49b3', '11e4b1b2-a00d-11ee-adae-047c164e49b3', '11e4b1b3-a00d-11ee-b154-047c164e49b3', '11e4b1b4-a00d-11ee-acee-047c164e49b3', '11e4b1b5-a00d-11ee-afe2-047c164e49b3', '11e4b1b6-a00d-11ee-bb0c-047c164e49b3', '11e4b1b7-a00d-11ee-ae3b-047c164e49b3', '11e4b1b8-a00d-11ee-a1c0-047c164e49b3', '11e4b1b9-a00d-11ee-9469-047c164e49b3', '11e4b1ba-a00d-11ee-8f76-047c164e49b3', '11e4b1bb-a00d-11ee-948b-047c164e49b3', '11e4b1bc-a00d-11ee-b393-047c164e49b3', '11e4b1bd-a00d-11ee-8f1c-047c164e49b3'], 'embeddings': None, 'metadatas': [{'page': 0, 'source': 'src_documents\\\\DIALOGPT.pdf'}, {'page': 0, 'source': 'src_documents\\\\DIALOGPT.pdf'}, {'page': 0, 'source': 'src_documents\\\\DIALOGPT.pdf'}, {'page': 0, 'source': 'src_documents\\\\DIALOGPT.pdf'}, {'page': 0, 'source': 'src_documents\\\\DIALOGPT.pdf'}, {'page': 0, 'source': 'src_documents\\\\DIALOGPT.pdf'}, {'page': 1, 'source': 'src_documents\\\\DIALOGPT.pdf'}, {'page': 1, 'source': 'src_documents\\\\DIALOGPT.pdf'}, {'page': 1, 'source': 'src_documents\\\\DIALOGPT.pdf'}, {'page': 1, 'source': 'src_documents\\\\DIALOGPT.pdf'}, {'page': 1, 'source': 'src_documents\\\\DIALOGPT.pdf'}, {'page': 1, 'source': 'src_documents\\\\DIALOGPT.pdf'}, {'page': 1, 'source': 'src_documents\\\\DIALOGPT.pdf'}, {'page': 2, 'source': 'src_documents\\\\DIALOGPT.pdf'}, {'page': 2, 'source': 'src_documents\\\\DIALOGPT.pdf'}, {'page': 2, 'source': 'src_documents\\\\DIALOGPT.pdf'}, {'page': 2, 'source': 'src_documents\\\\DIALOGPT.pdf'}, {'page': 2, 'source': 'src_documents\\\\DIALOGPT.pdf'}, {'page': 2, 'source': 'src_documents\\\\DIALOGPT.pdf'}, {'page': 3, 'source': 'src_documents\\\\DIALOGPT.pdf'}, {'page': 3, 'source': 'src_documents\\\\DIALOGPT.pdf'}, {'page': 3, 'source': 'src_documents\\\\DIALOGPT.pdf'}, {'page': 3, 'source': 'src_documents\\\\DIALOGPT.pdf'}, {'page': 3, 'source': 'src_documents\\\\DIALOGPT.pdf'}, {'page': 3, 'source': 'src_documents\\\\DIALOGPT.pdf'}, {'page': 4, 'source': 'src_documents\\\\DIALOGPT.pdf'}, {'page': 4, 'source': 'src_documents\\\\DIALOGPT.pdf'}, {'page': 4, 'source': 'src_documents\\\\DIALOGPT.pdf'}, {'page': 4, 'source': 'src_documents\\\\DIALOGPT.pdf'}, {'page': 4, 'source': 'src_documents\\\\DIALOGPT.pdf'}, {'page': 5, 'source': 'src_documents\\\\DIALOGPT.pdf'}, {'page': 5, 'source': 'src_documents\\\\DIALOGPT.pdf'}, {'page': 5, 'source': 'src_documents\\\\DIALOGPT.pdf'}, {'page': 5, 'source': 'src_documents\\\\DIALOGPT.pdf'}, {'page': 5, 'source': 'src_documents\\\\DIALOGPT.pdf'}, {'page': 5, 'source': 'src_documents\\\\DIALOGPT.pdf'}, {'page': 6, 'source': 'src_documents\\\\DIALOGPT.pdf'}, {'page': 6, 'source': 'src_documents\\\\DIALOGPT.pdf'}, {'page': 6, 'source': 'src_documents\\\\DIALOGPT.pdf'}, {'page': 6, 'source': 'src_documents\\\\DIALOGPT.pdf'}, {'page': 6, 'source': 'src_documents\\\\DIALOGPT.pdf'}, {'page': 7, 'source': 'src_documents\\\\DIALOGPT.pdf'}, {'page': 7, 'source': 'src_documents\\\\DIALOGPT.pdf'}, {'page': 7, 'source': 'src_documents\\\\DIALOGPT.pdf'}, {'page': 7, 'source': 'src_documents\\\\DIALOGPT.pdf'}, {'page': 7, 'source': 'src_documents\\\\DIALOGPT.pdf'}, {'page': 7, 'source': 'src_documents\\\\DIALOGPT.pdf'}, {'page': 7, 'source': 'src_documents\\\\DIALOGPT.pdf'}, {'page': 8, 'source': 'src_documents\\\\DIALOGPT.pdf'}, {'page': 8, 'source': 'src_documents\\\\DIALOGPT.pdf'}, {'page': 9, 'source': 'src_documents\\\\DIALOGPT.pdf'}, {'page': 9, 'source': 'src_documents\\\\DIALOGPT.pdf'}, {'page': 9, 'source': 'src_documents\\\\DIALOGPT.pdf'}, {'page': 9, 'source': 'src_documents\\\\DIALOGPT.pdf'}], 'documents': ['DIALO GPT : Large-Scale Generative Pre-training\\nfor Conversational Response Generation\\nYizhe Zhang Siqi Sun Michel Galley Yen-Chun Chen\\nChris Brockett Xiang Gao Jianfeng Gao Jingjing Liu Bill Dolan\\nMicrosoft Corporation, Redmond, WA, USA∗\\n{yizzhang,siqi.sun,mgalley,yenchen,chrisbkt,xiag,jfgao,jingjl,billdol }@microsoft.com\\nAbstract\\nWe present a large, tunable neural conversa-\\ntional response generation model, D IALO GPT\\n(dialogue generative pre-trained transformer).\\nTrained on 147M conversation-like exchanges\\nextracted from Reddit comment chains over\\na period spanning from 2005 through 2017,\\nDialoGPT extends the Hugging Face PyTorch\\ntransformer to attain a performance close to\\nhuman both in terms of automatic and human\\nevaluation in single-turn dialogue settings. We', 'evaluation in single-turn dialogue settings. We\\nshow that conversational systems that leverage\\nDialoGPT generate more relevant, contentful\\nand context-consistent responses than strong\\nbaseline systems. The pre-trained model and\\ntraining pipeline are publicly released to facil-\\nitate research into neural response generation\\nand the development of more intelligent open-\\ndomain dialogue systems.\\n1 Introduction\\nWe introduce D IALO GPT, a tunable gigaword-\\nscale neural network model for generation of con-\\nversational reponses, trained on Reddit data.\\nRecent advances in large-scale pre-training\\nusing transformer-based architectures (Radford\\net al., 2018; Devlin et al., 2019; Raffel et al., 2019)\\nhave achieved great empirical success. OpenAI’s\\nGPT-2 (Radford et al., 2018), for example, has', 'GPT-2 (Radford et al., 2018), for example, has\\ndemonstrated that transformer models trained on\\nvery large datasets can capture long-term depen-\\ndencies in textual data and generate text that is ﬂu-\\nent, lexically diverse, and rich in content. Such\\nmodels have the capacity to capture textual data\\nwith ﬁne granularity and produce output with a\\nhigh-resolution that closely emulates real-world\\ntext written by humans.\\nDIALO GPT extends GPT-2 to address the chal-\\nlenges of conversational neural response genera-\\n∗A collaboration between Microsoft Research and Mi-\\ncrosoft Dynamics 365 AI Research.tion. Neural response generation is a subcate-\\ngory of text-generation that shares the objective of\\ngenerating natural-looking text (distinct from any\\ntraining instance) that is relevant to the prompt.', 'Modelling conversations, however, presents dis-\\ntinct challenges in that human dialogue, which en-\\ncapsulates the possibly competing goals of two\\nparticipants, is intrinsically more diverse in the\\nrange of potential responses (Li et al., 2016a;\\nZhang et al., 2018; Gao et al., 2019a,b). It thus\\nposes a greater one-to-many problem than is typ-\\nical in other text generation tasks such as neural\\nmachine translation, text summarization and para-\\nphrasing. Human conversations are also generally\\nmore informal, noisy, and, when in the form of\\ntextual chat, often contain informal abbreviations\\nor syntactic/lexical errors.\\nMost open-domain neural response generation\\nsystems suffer from content or style inconsis-\\ntency (Li et al., 2016b; Zhang et al., 2019; Gao', 'tency (Li et al., 2016b; Zhang et al., 2019; Gao\\net al., 2019c), lack of long-term contextual in-\\nformation (Serban et al., 2017), and blandness\\n(Li et al., 2016a; Zhang et al., 2018; Qin et al.,\\n2019). While these issues can be alleviated by\\nmodelling strategies speciﬁcally designed to boost\\ninformation content, a transformer-based archi-\\ntecture like GPT-2 (Radford et al., 2018), which\\nuses a multi-layer self-attentive mechanism to al-\\nlow fully-connected cross-attention to the full con-\\ntext in a computationally efﬁcient manner, seems\\nlike a natural choice for exploring a more general\\nsolution. Transformer models, for example, al-\\nlow long-term dependency information to be bet-\\nter be preserved across time (Radford et al., 2018),\\nthereby improving content consistency. They also', 'thereby improving content consistency. They also\\nhave higher model capacity due to their deep struc-\\nture (up to 48 layers in GPT-2) and are more effec-\\ntive in leveraging large-scale datasets (more than\\n100 million training instances) than RNN-based\\napproaches (Vaswani et al., 2017).arXiv:1911.00536v3  [cs.CL]  2 May 2020', 'Like GPT-2, D IALO GPT is formulated as an\\nautoregressive (AR) language model, and uses\\nthe multi-layer transformer as model architecture.\\nUnlike GPT-2, however, D IALO GPT is trained\\non large-scale dialogue pairs/sessions extracted\\nfrom Reddit discussion chains. Our assumption\\nis that this should enable D IALO GPT to capture\\nthe joint distribution of P(Target,Source )in con-\\nversational ﬂow with ﬁner granularity. In prac-\\ntice, this is what we observe: sentences gener-\\nated by D IALO GPT are diverse and contain infor-\\nmation speciﬁc to the source prompt, analogous\\nwhat GPT-2 generates for continuous text. We\\nhave evaluated the pre-trained model on a public\\nbenchmark dataset (DSTC-7), and a new 6k multi-\\nreference test dataset extracted from Reddit post-', 'ings. D IALO GPT achieves state-of-the-art results\\nin both automatic and human evaluation, lifting\\nperformance to near-human response quality.\\nWe have released the source code and a\\npre-trained model to facilitate future research.1.\\nOur model can be easily leveraged and adapted\\nto new dialogue datasets, especially datasets\\nwith few training examples. The D IALO GPT\\npackage also contains an open-source training\\npipeline (data extraction/preparation and model\\ntraining/evaluation) built upon the Huggingface\\nPyTorch transformer (HuggingFace, 2019).2\\n2 Dataset\\nThe dataset is extracted from comment chains\\nscraped from Reddit spanning from 2005 till 2017.\\nReddit discussions can be naturally expanded as\\ntree-structured reply chains, since a thread reply-', 'ing to one thread forms the root node of subse-\\nquent threads. We extract each path from the root\\nnode to the leaf node as a training instance con-\\ntaining multiple turns of dialogue.\\nWe ﬁlter the data by removing the instances\\nwhere (1) there is a URL in source or target, (2)\\nwhere the target contains word repetitions of at\\nleast three words, (3) where the response does\\nnot contain at least one of the top-50 most fre-\\nquent English words (e.g., “the”, “of”, “a”), since\\nthis probably indicates it might not be an English\\nsentence, (4) where the response contains special\\nmarkers such as “[” or “]”, as this could be markup\\n1GitHub: https://github.com/microsoft/\\nDialoGPT ; Blog: https://aka.ms/dialogpt\\n2Our model is also available over Hugging face Trans-', 'formers. https://huggingface.co/microsoft/\\nDialoGPT-mediumlanguage, (5) where source and target sequences\\ntogether are longer than 200 words, (6) where\\nthe target contains offensive language, identiﬁed\\nby phrase matching against a large blocklist. We\\nalso excluded a large number of subreddits that\\nhad been identiﬁed as likely to contain offensive\\ncontent. In addition, we aggressively ﬁltered out\\nblandness, e.g., removing instances where the re-\\nsponses contained 90% of tri-grams that have been\\nseen more than 1000 times. Often uninformative,\\nsuch responses account for about 1% of the data.\\nAfter ﬁltering, the dataset comprises 147,116,725\\ndialogue instances, in total 1.8 billion words.\\n3 Method\\n3.1 Model Architecture\\nWe trained our D IALO GPT model on the basis of', 'We trained our D IALO GPT model on the basis of\\nthe GPT-2 (Radford et al., 2018) architecture.The\\nGPT-2 transformer model adopts the generic trans-\\nformer language model (Vaswani et al., 2017)\\nand leverages a stack of masked multi-head self-\\nattention layers to train on massive web-text data.\\nThe text generated either from scratch or based\\non a user-speciﬁc prompt is realistic-looking. The\\nsuccess of GPT-2 demonstrates that a transformer\\nlanguage model is able to characterize human lan-\\nguage data distributions at a ﬁne-grained level,\\npresumably due to large large model capacity and\\nsuperior efﬁciency.\\nOur model inherits from GPT-2 (Radford et al.,\\n2018), a 12-to-48 layer transformer with layer nor-\\nmalization, a initialization scheme that accounts', 'malization, a initialization scheme that accounts\\nfor model depth that we modiﬁed, and byte pair\\nencodings (Sennrich et al., 2016) for the tokenizer.\\nWe follow the OpenAI GPT-2 to model a multi-\\nturn dialogue session as a long text and frame the\\ngeneration task as language modeling. We ﬁrst\\nconcatenate all dialog turns within a dialogue ses-\\nsion into a long text x1,···,xN(Nis the se-\\nquence length), ended by the end-of-text token.\\nWe denote the source sentence (dialogue history)\\nasS=x1,···,xmand target sentence (ground\\ntruth response) as T=xm+1,···,xN, the condi-\\ntional probability of P(T|S)can be written as the\\nproduct of a series of conditional probabilities:\\np(T|S) =N∏\\nn=m+1p(xn|x1,···,xn−1)(1)\\nFor a multi-turn dialogue session T1,···,TK, (1)', 'For a multi-turn dialogue session T1,···,TK, (1)\\ncan be written as p(TK,···,T2|T1), which is', 'essentially the product of conditional probabili-\\nties ofp(Ti|T1,···,Ti−1). Consequently, opti-\\nmizing a single objective p(TK,···,T2|T1)can\\nbe perceived as optimizing all p(Ti|T1,···,Ti−1)\\nsource-target pairs.\\nOur implementation is based on the open-\\nsource PyTorch-transformer repository.3\\n3.2 Mutual Information Maximization\\nOpen-domain text generation models are notori-\\nous for generating bland, uninformative samples.\\nTo address this problem, we implement a max-\\nimum mutual information (MMI) scoring func-\\ntion (Li et al., 2016a; Zhang et al., 2018). MMI\\nemploys a pre-trained backward model to pre-\\ndict source sentences from given responses, i.e.,\\nP(Source|target ). We ﬁrst generate a set of hy-\\npotheses using top-K sampling. Then we use\\nthe probability of P(Source|Hypothesis )to rerank', 'the probability of P(Source|Hypothesis )to rerank\\nall hypotheses. Intuitively, maximizing backward\\nmodel likelihood penalizes the bland hypotheses,\\nas frequent and repetitive hypotheses can be asso-\\nciated with many possible queries, thus yielding a\\nlower probability for any speciﬁc query.\\nWe also attempted to optimize the reward R≜\\nP(Source|Hypothesis )using a policy gradient\\n(Williams, 1992) with a sample-averaged base-\\nline, following Zhang et al. (2018). The valida-\\ntion reward can be stably improved, but unlike the\\ntraining under RNN architecture, we observed that\\nreinforcement learning (RL) training easily con-\\nverges to a degenerate locally-optimal solution,\\nwhere the hypothesis simply repeats the source\\nsentence (i.e., a parroting model) and mutual in-', 'sentence (i.e., a parroting model) and mutual in-\\nformation is maximized. We hypothesize that\\ntransformers can become trapped in local optima\\ndue to their strong model representation power.\\nWe leave the investigation of regularized RL train-\\ning to future work.\\n4 Result\\n4.1 Experimental Details\\nWe trained 3 different sizes of the model with to-\\ntal parameters of 117M, 345M and 762M respec-\\ntively. The model speciﬁcation follows Radford\\net al. (2018) (Table 1).\\nOur model uses a vocabulary of 50,257 entries,\\nand was trained on 16 Nvidia V100 machines with\\n3https://github.com/huggingface/\\npytorch-transformersModel LayersDemb B\\n117M 12 768 128\\n345M 24 1024 64\\n762M 36 1280 32\\nTable 1: Model conﬁgurations. “B” denotes batch size\\nper GPU.\\nNVLink. We used the Noam learning rate sched-', 'NVLink. We used the Noam learning rate sched-\\nuler with 16000 warm-up steps. The learning rate\\nis selected based on validation loss. Each model\\nis trained until there is no progress in validation\\nloss. For small and medium models, we trained\\nthe models for up to 5 epochs. For the large model\\nwe trained for at most 3 epochs.\\nSpeeding up training To accelerate the training\\nprocess and accommodate GPU memory limita-\\ntions, we ﬁrst compress all training data into a\\nlazy-loading database ﬁle, so that data is loaded\\nonly when needed (pre-fetching large chunks to\\nreduce access frequency). We also leverage sepa-\\nrate asynchronous data processes to scale the train-\\ning. As a result, training time declines approxi-\\nmately linearly w.r.t. the number of GPUs. We', 'mately linearly w.r.t. the number of GPUs. We\\nfurther employed a dynamic batching strategy to\\ngroup conversations of similar lengths into the\\nsame batch, thus increasing training throughput.\\n4.2 DSTC-7 Dialogue Generation Challenge\\nThe DSTC (Dialog System Technology Chal-\\nlenges) 7 track (Galley et al., 2019) is an end-to-\\nend conversational modeling task,4in which the\\ngoal is to generate conversation responses that go\\nbeyond chitchat by injecting information that is\\ngrounded in external knowledge. This task is dis-\\ntinct from what is commonly thought of as goal-\\noriented, task-oriented, or task-completion dialogs\\nin that there is no speciﬁc or predeﬁned goal (e.g.,\\nbooking a ﬂight, or reserving a table at a restau-\\nrant). Instead, it targets human-like interactions', 'where the underlying goal is often ill-deﬁned or\\nunknown in advance, of the kind seen in work and\\nother productive environments (e.g., brainstorm-\\ning meetings) where people share information.\\nThe DSTC-7 test data contains conversation\\nthreads from Reddit data. In order to create a\\nmulti-reference test set, we utilized conversation\\nsessions that contain 6 or more responses. Given\\n4https://github.com/mgalley/\\nDSTC7-End-to-End-Conversation-Modeling/\\ntree/master/evaluation', 'other ﬁltering criteria such as turn length, this\\nyields a 5-reference test set of size 2208. (For each\\ninstance, one of the 6 human responses is set aside\\nto assess human performance on this task.) Note\\nthat our training data is collected from a different\\ntime span from the test set.\\nWe performed automatic evaluation using stan-\\ndard machine translation metrics, including BLEU\\n(Papineni et al., 2002), METEOR (Lavie and\\nAgarwal, 2007), and NIST (Doddington, 2002).\\nNIST is a variant of BLEU that weights n-gram\\nmatches by their information gain, i.e., it indi-\\nrectly penalizes uninformative n-grams. We also\\nuse Entropy (Zhang et al., 2018) and Dist-n (Li\\net al., 2016a) to evaluate lexical diversity. More\\ndetails are provided in Galley et al. (2019).\\nWe compared D IALO GPT with our in-house', 'We compared D IALO GPT with our in-house\\ncompetitive sequence-to-sequence model P ER-\\nSONALITY CHAT based on (Li et al., 2016a) and\\ntrained on Twitter data, which has been used in\\nproduction as a Cognitive Service for Microsoft\\nAzure.5Table 2 summarizes the automatic evalu-\\nation results. D IALO GPT with 345M parameters\\nand beam search achieved the highest automatic\\nscore across most metrics. Scores for D IALO GPT\\nwith 345M parameters are better across the board\\nthan with 117M parameters. Beam search (with\\nbeam width 10) dramatically improves BLEU and\\nDIST scores, and marginally improves NIST and\\nMETEOR. Note that our model is ﬁne-tuned on\\nsource-target pairs, and does not leverage ground-\\ning information from the DSTC training set. Pre-\\nsumably, the model learns background informa-', 'sumably, the model learns background informa-\\ntion during pre-training and is unhindered by the\\nlack of a grounding document.\\nThe automatic scores of D IALO GPT are higher\\nthan those for humans. This does not mean that\\nthe generation is more “realistic” than human, but\\nis probably attributable to the one-to-many nature\\nof conversation. As illustrated in Figure 1, multi-\\nple human responses (R1-R4) can correspond well\\nto a source utterance. Without loss of general-\\nity, suppose R1-R3 are the “ground truth” refer-\\nences that will be tested on, while R4 is the “held-\\nout” human response that serves to compute a “hu-\\nman” score. In semantic space, a generated re-\\nsponseRgfrom a well-trained model will presum-\\nably tend to lie in the vicinity the geometric center', '5Project P ERSONALITY CHAT: https:\\n//docs.microsoft.com/en-us/\\nazure/cognitive-services/\\nproject-personality-chat/overview\\nSource: I would like to report a break-in. R1: Was anything stolen?R2: Is anyone hurt or injured? R4: Is the perpetrator still inside?R3: I will send someone right away.Rg: When was this break-in?Figure 1: A generated response can surpass a human\\nresponse in automatic metrics. Example responses are\\nfrom Gupta et al. (2019)\\nof all possible responses, because the training ob-\\njective seeks to generate the most likely response.\\nThis may be close to the geometric mean of all\\ntraining instances, thus “averaging out” these in-\\nstances. Consequently, a generated response Rg\\nmight have a lower “semantic distance” (mani-\\nfested in higher automatic scores like BLEU) from', 'fested in higher automatic scores like BLEU) from\\nR1-R3 than the targeted human response R4.\\n4.3 A New Reddit Multi-reference Dataset\\nWe further evaluate D IALO GPT on a multi-\\nreference test set with 6K examples. The results\\nare shown in Table 3. We test our method on\\ntwo settings: training from scratch and ﬁne-tuning\\nusing GPT-2 as the pre-trained model. In both\\nsettings, a larger model consistently outperforms\\na smaller one. Comparing training from scratch\\nto ﬁne-tuning from the pre-trained GPT-2 model,\\nwhen applying to smaller model, using GPT-2\\nmodel gives larger performance gains. Again, the\\nbest system D IALO GPT (345M, w/ beam search)\\nscores higher on BLEU than humans. Larger mod-\\nels trained from scratch (345M and 762M) per-\\nform comparably to one ﬁnetuned on GPT-2.', 'form comparably to one ﬁnetuned on GPT-2.\\n4.4 Re-ranking The Response Using MMI\\nWe perform mutual information maximization as\\ndescribed in Section 3.2. Speciﬁcally, we gener-\\nate 16 samples for each input source sentence by\\nusing top-K sampling ( K= 10 ) using the 345M\\nmodel ﬁne-tuned from the GPT-2 medium model.\\nThis is followed by a re-ranking step using a back-\\nward model, which is also a 345M model ﬁne-\\ntuned from the GPT-2 medium model. The re-\\nsponse that yields lowest backward model loss is', 'NIST BLEU METEOR Entropy Dist Avg Len\\nMethod N-2 N-4 B-2 B-4 E-4 D-1 D-2\\nPERSONALITY CHAT 0.19 0.20 10.44% 1.47% 5.42% 6.89 5.9% 16.4% 8.2\\nTeam B 2.51 2.52 14.35% 1.83% 8.07% 9.03 10.9% 32.5% 15.1\\nDIALO GPT (117M) 1.58 1.60 10.36% 2.02% 7.17% 6.94 6.2% 18.94% 13.0\\nGPT(345M) 1.78 1.79 9.13% 1.06% 6.38% 9.72 11.9% 44.2% 14.7\\nDIALO GPT (345M) 2.80 2.82 14.16% 2.31% 8.51% 10.08 9.1% 39.7% 16.9\\nDIALO GPT (345M,Beam) 2.92 2.97 19.18 % 6.05% 9.29% 9.57 15.7% 51.0% 14.2\\nHuman 2.62 2.65 12.35% 3.13% 8.31% 10.45 16.7% 67.0% 18.8\\nTable 2: DSTC evaluation. “Team B” is the winner system of the DSTC-7 challenge. “Beam” denotes beam\\nsearch. “Human” represents the held-out ground truth reference.\\nNIST BLEU METEOR Entropy Dist Avg Len\\nMethod N-2 N-4 B-2 B-4 E-4 D-1 D-2', 'Method N-2 N-4 B-2 B-4 E-4 D-1 D-2\\nPERSONALITY CHAT 0.78 0.79 11.22% 1.95% 6.93% 8.37 5.8% 18.8% 8.12\\nTraining from scratch:\\nDIALO GPT (117M) 1.23 1.37 9.74% 1.77% 6.17% 7.11 5.3% 15.9% 9.41\\nDIALO GPT (345M) 2.51 3.08 16.92% 4.59% 9.34% 9.03 6.7% 25.6% 11.16\\nDIALO GPT (762M) 2.52 3.10 17.87% 5.19% 9.53% 9.32 7.5% 29.3% 10.72\\nTraining from OpenAI GPT-2:\\nDIALO GPT (117M) 2.39 2.41 10.54% 1.55% 7.53% 10.77 8.6% 39.9% 12.82\\nDIALO GPT (345M) 3.00 3.06 16.96% 4.56% 9.81% 9.12 6.8% 26.3% 12.19\\nDIALO GPT (345M, Beam) 3.4 3.5 21.76 % 7.92% 10.74% 10.48 12.38 % 48.74 % 11.34\\nDIALO GPT (762M) 2.84 2.90 18.66% 5.25% 9.66% 9.72 7.76% 29.93% 11.19\\nDIALO GPT (762M, Beam) 2.90 2.98 21.08% 7.57% 10.11% 10.06 11.62% 44.07% 10.68\\nDIALO GPT (345M, MMI) 3.28 3.33 15.68% 3.94% 11.23 % 11.25 9.39% 45.55% 17.21', 'Human 3.41 4.25 17.90% 7.48% 10.64% 10.99 14.5% 63.0% 13.10\\nTable 3: 6K Reddit multi-reference evaluation. “Beam” denotes beam search. “Human” represents the held-out\\nground truth reference.\\nselected for evaluation. The results are summa-\\nrized in the second to last row in Table 3. It can\\nbe seen that compared with Greedy generation,\\nMMI re-ranking produces more diverse responses\\nwith higher NIST, METEOR and Entropy and Dist\\nscores, but with a slight drop in BLEU.\\n4.5 Generation Examples\\nWe provide sample generated dialogues in Table 4\\n(interactive chat) and Table 5 (a self-playing bot\\nwith user prompt). The output is based on top-K\\nsampling.6Interestingly, our model exhibits the\\nability to address commonsense questions to some\\nextent, presumably owing to the rich amount of', 'extent, presumably owing to the rich amount of\\ninformation that can be learned from Reddit data.\\nIn some cases, instead of giving the “desired” an-\\nswer, the system generates an alternative, reason-\\nable answer. Our observations suggest that the\\nsystem is able to deal with multi-turn generation\\nbetter than an RNN counterpart and tends to be\\n6Owing to occasional toxic outputs, we are unable to re-\\nlease the generation code at this time.more consistent with respect to context (Table 5).7\\nsource Response\\nwho is the ﬁrst president of the\\nUnited States?George Washington\\nwhat is the boiling point of\\nwater?I think it’s about 212 F.\\nwhich one is bigger, sun or\\nmoon?The sun .\\nwhich animal has black and\\nwhite stripes?A black and white\\nstriped cat .\\nTable 4: Addressing commonsense questions', 'Table 4: Addressing commonsense questions\\n4.6 Human Evaluation\\nHuman evaluations We evaluated 2000 ran-\\ndomly sampled test sources from the Reddit 6K\\ntest dataset using crowd-sourcing. Systems were\\npaired and each pair of system outputs was ran-\\ndomly presented to 3 judges, who ranked them\\n7We provide a live invitation-only demonstration site for a\\nconversational agents with toxicity controls and mutual infor-\\nmation maximization features discussed in this paper. Check\\nour GitHub repository for more information.', 'Role response\\nUser Does money buy happiness?\\nBot Depends how much money you spend on it .\\nUser What is the best way to buy happiness ?\\nBot You just have to be a millionaire by your early\\n20s, then you can be happy .\\nUser This is so difﬁcult !\\nBot You have no idea how hard it is to be a mil-\\nlionaire and happy . There is a reason the rich\\nhave a lot of money\\nTable 5: An interactive example of multi-turn dialogue\\nRole Response\\nUser what is the meaning of life ?\\nBot The meaning is to be with your family and\\nfriends .\\nBot I’m going to guess : It means that your par-\\nents and friends have loved you . That’s the\\nmeaning , I believe .\\nBot I think the meaning is to make sure you’re\\nalive when you die . So you’ll be with your\\nfamily , friends , and yourself .', 'family , friends , and yourself .\\nBot It’s not , but thanks for trying to help .\\nTable 6: An example of multi-turn self-playing dia-\\nlogue with user prompt\\nfor relevance, informativeness and how human-\\nlike the generating is using a 3-point Likert-like\\nscale. Judges were required to pass a qualiﬁca-\\ntion test, and a regime of spam detection was im-\\nposed.8Overall judge preferences for relevance,\\ninformativeness and human-likeness, presented as\\nraw numbers and a percentage of the total, are\\nshown in Table 7. A strong preference can be ob-\\nserved for DialoGPT over PersonalityChat. Ta-\\nble 7 also suggests that the ”vanilla” DialoGPT\\nmedium model may already be close to human\\nresponse quality. Unexpectedly, we found that\\njudges may prefer the MMI variant over human re-', 'judges may prefer the MMI variant over human re-\\nsponses, probably because of many of the true hu-\\nman responses are erratic or idiosyncratic, or are\\ntied to internet memes that happened to be unfa-\\nmiliar to the judges.9(See Section 4.2 for the con-\\nditions underlying this effect.) Further details, in-\\ncluding a test of signiﬁcance and the human evalu-\\nation template used, are provided in the Appendix.\\n8We used held-out hand-vetted data from the human and\\nPersonalityChat datasets to provide clear-cut cases for spam\\nprevention and judge training examples. We suspect that this\\nmay have helped bias the results towards the extremes.\\n9For example, one judge protested that the internet meme\\n“I was today years old when I realized this.” did not seem\\nhuman-like.5 Related work', 'human-like.5 Related work\\nThere are several open-sourced toolkits for large-\\nscale pre-trained transformer models. Hugging-\\nface Conv-AI transfer learning repository (Wolf\\net al., 2019) contains the code for training con-\\nversational AI systems with transfer learning\\nbased on the GPT-2 transformer language model,\\nwhich achieves the state-of-the-art performance\\non ConvAI-2 dialogue competition. DLGnet\\n(Olabiyi and Mueller, 2019) is a large transformer\\nmodel trained on dialogue dataset and achieves\\ngood performance in multi-turn dialogue genera-\\ntion. AllenNLP (Gardner et al., 2018) is devel-\\noped as a toolkit for many natural language pro-\\ncessing tasks, including the large-scale pre-trained\\nbi-LSTM sentence representation learning frame-\\nwork ELMo (Peters et al., 2018). Texar (Hu et al.,', '2018) focuses on text generation including style\\ntransferring and controllable generation. It in-\\ncludes reinforcement learning capabilities along\\nwith its sequence modelling tools. DeepPavlov\\n(Burtsev et al., 2018) is a popular framework fo-\\ncusing on task-oriented dialogue. This public\\nrepository contains several demos and pre-trained\\nmodels for question answering and sentiment clas-\\nsiﬁcation. Icecaps (Shiv et al., 2019) is a re-\\nsponse generation toolkit with techniques such\\nas grounding on personalities or external knowl-\\nedge and multi-task training. The ConvAI2 chal-\\nlenge (Dinan et al., 2019) has a focus on person-\\nalized conversations. ParlAI (Miller et al., 2017)\\nis another library for developing task-oriented di-\\nalogue systems. It contains pre-trained models for', 'knowledge-grounded chatbot trained with crowd-\\nsourced data. The Text-to-Text Transformer (Raf-\\nfel et al., 2019) uniﬁes multiple text modeling\\ntasks, and achieves the state-of-the-art results in\\nvarious natural language generation and under-\\nstanding benchmarks.\\n6 Limitations and risks\\nDIALO GPT is released as a model only; the\\nonus of decoder implementation resides with the\\nuser. Despite our efforts to minimize the amount\\nof overtly offensive data prior to training, D I-\\nALOGPT retains the potential to generate output\\nthat may trigger offense. Output may reﬂect gen-\\nder and other historical biases implicit in the data.\\nResponses generated using this model may exhibit\\na propensity to express agreement with proposi-\\ntions that are unethical, biased or offensive (or the', 'Relevance :A and B, which is more relevant and appropriate to the immediately preceding turn?\\nSystem A Neutral System B\\nDialoGPT (345M) 3281 ( 72%) 394 (9% ) 882 (19%) PersonalityChat ****\\nDialoGPT (345M) 2379 (40%) 527 (9% ) 3094 ( 52%) DialoGPT (345M, w/ MMI) ****\\nDialoGPT (345M) 3019 ( 50%) 581 (10%) 2400 (40%) DialoGPT (345M, Beam) ****\\nDialoGPT (345M) 2726 ( 45%) 576 (10%) 2698 (45%) DialoGPT (762M)\\nDialoGPT (345M) 2671 (45%) 513 (9% ) 2816 ( 47%) Human response\\nDialoGPT (345M, w/ MMI) 2871 ( 48%) 522 (9%) 2607 (43%) Human response ***\\nInformative :A and B, which is more contentful, interesting and informative?\\nSystem A Neutral System B\\nDialoGPT (345M) 3490 ( 77%) 206 (5%) 861 (19% ) PersonalityChat ****\\nDialoGPT (345M) 2474 (41%) 257 (4%) 3269( 54%) DialoGPT (345M, w/ MMI) ****', 'DialoGPT (345M) 3230 ( 54%) 362 (6%) 2408( 40%) DialoGPT (345M, Beam) *****\\nDialoGPT (345M) 2856 ( 48%) 303 (5%) 2841( 47%) DialoGPT (762M)\\nDialoGPT (345M) 2722 (45%) 234 (4%) 3044( 51%) Human response ****\\nDialoGPT (345M, w/ MMI) 3011 ( 50%) 234 (4%) 2755( 46%) Human response **\\nHuman-like :A and B, which is more likely to be generated by human rather than a chatbot?\\nSystem A Neutral System B\\nDialoGPT (345M) 3462 ( 76)% 196 (4%) 899 (20%) PersonalityChat ****\\nDialoGPT (345M) 2478 (41)% 289 (5%) 3233 ( 54%) DialoGPT (345M, w/ MMI) ****\\nDialoGPT (345M) 3233 ( 54)% 340 (6%) 2427 (40%) DialoGPT (345M, Beam) ****\\nDialoGPT (345M) 2847 ( 47)% 321 (5%) 2832 (47%) DialoGPT (762M)\\nDialoGPT (345M) 2716 (45)% 263 (4%) 3021 ( 50%) Human response ***', 'DialoGPT (345M, w/ MMI) 2978 ( 50)% 241 (4%) 2781 (46%) Human response *\\nTable 7: Results of Human Evaluation for relevance, informativeness and human-response possibility, showing\\npreferences (%) for our model (DialoGPT) vis-a-vis its variants and real human responses. Distributions skew\\ntowards DialoGPT with MMI, even when compared with human outputs. Numbers in bold indicate the preferred\\nsystems. Statistically signiﬁcant results are indicated: * p ≤0.01, ** p≤0.001, *** p≤0.0001, **** p≤\\n0.00001.\\nreverse, disagreeing with otherwise ethical state-\\nments). These are known issues in current state-\\nof-the-art end-to-end conversation models trained\\non large naturally-occurring datasets. A major\\nmotive for releasing D IALO GPT is to enable re-', 'motive for releasing D IALO GPT is to enable re-\\nsearchers to investigate these issues and develop\\nmitigation strategies. In no case should inappro-\\npriate content generated as a result of using D I-\\nALOGPT be construed to reﬂect the views or val-\\nues of either the authors or Microsoft Corporation.\\n7 Conclusion\\nWe have released an open-domain pre-trained\\nmodel, D IALO GPT, trained on massive real-world\\nReddit dataset. The package consists of a dis-\\ntributed training pipeline and several pre-trained\\nmodels that can be ﬁne-tuned to obtain a conver-\\nsation model on a moderately-sized customized\\ndataset in few hours. D IALO GPT is fully open-\\nsourced and easy to deploy, allowing users to ex-tend the pre-trained conversational system to boot-', 'strap training using various datasets. It serves as a\\nbuilding block to novel applications and method-\\nologies. Detection and control of toxic output\\nwill be a major focus of future investigation. We\\nwill investigate leveraging reinforcement learning\\nto further improve the relevance of the generated\\nresponses and prevent the model from generating\\negregious responses.\\nAcknowledgements\\nWe would like to thank Yu Wang, Vighnesh\\nLeonardo Shiv, Chris Quirk, and the anonymous\\nreviewers for their helpful discussions and com-\\nments.\\nReferences\\nM. Burtsev, A. Seliverstov, R. Airapetyan,\\nM. Arkhipov, D. Baymurzina, N. Bushkov,\\nO. Gureenkova, T. Khakhulin, Y . Kuratov,', 'D. Kuznetsov, A. Litinsky, V . Logacheva, A. Lymar,\\nV . Malykh, M. Petrov, V . Polulyakh, L. Pugachev,\\nA. Sorokin, M. Vikhreva, and M. Zaynutdinov.\\n2018. DeepPavlov: Open-source library for dia-\\nlogue systems. In Proceedings of the 56th Annual\\nMeeting of the Association for Computational\\nLinguistics-System Demonstrations .\\nJacob Devlin, Ming-Wei Chang, Kenton Lee, and\\nKristina Toutanova. 2019. BERT: Pre-training of\\ndeep bidirectional transformers for language under-\\nstanding. NAACL 2019 .\\nE. Dinan, V . Logacheva, V . Malykh, A. Miller, K. Shus-\\nter, J. Urbanek, D. Kiela, A. Szlam, I. Serban,\\nR. Lowe, S. Prabhumoye, A. W. Black, A. Rudnicky,\\nJ. Williams, J. Pineau, M. Burtsev, and J. Weston.\\n2019. The second conversational intelligence chal-\\nlenge (ConvAI2).', 'lenge (ConvAI2).\\nGeorge Doddington. 2002. Automatic evaluation\\nof machine translation quality using n-gram co-\\noccurrence statistics. In Proceedings of the second\\ninternational conference on Human Language Tech-\\nnology Research . Morgan Kaufmann Publishers Inc.\\nMichel Galley, Chris Brockett, Xiang Gao, Jianfeng\\nGao, and Bill Dolan. 2019. Grounded response gen-\\neration task at DSTC7. In AAAI Dialog System\\nTechnology Challenges Workshop .\\nJ. Gao, M. Galley, and L. Li. 2019a. Neural approaches\\nto conversational AI. Foundations and Trends in In-\\nformation Retrieval .\\nXiang Gao, Sungjin Lee, Yizhe Zhang, Chris Brockett,\\nMichel Galley, Jianfeng Gao, and Bill Dolan. 2019b.\\nJointly optimizing diversity and relevance in neural\\nresponse generation. NAACL-HLT 2019 .', 'response generation. NAACL-HLT 2019 .\\nXiang Gao, Yizhe Zhang, Sungjin Lee, Michel Gal-\\nley, Chris Brockett, Jianfeng Gao, and Bill Dolan.\\n2019c. Structuring latent spaces for stylized re-\\nsponse generation. EMNLP-IJCNLP .\\nM. Gardner, J. Grus, M. Neumann, O. Tafjord,\\nP. Dasigi, N. F. Liu, M. Peters, M. Schmitz, and L. S.\\nZettlemoyer. 2018. AllenNLP: A deep semantic nat-\\nural language processing platform. In Proceedings\\nof Workshop for NLP Open Source Software .\\nPrakhar Gupta, Shikib Mehri, Tiancheng Zhao, Amy\\nPavel, Maxine Eskenazi, and Jeffrey P Bigham.\\n2019. Investigating evaluation of open-domain di-\\nalogue systems with human generated multiple ref-\\nerences. arXiv preprint arXiv:1907.10568 .\\nZ. Hu, H. Shi, Z. Yang, B. Tan, T. Zhao, J. He,\\nW. Wang, L. Qin, D. Wang, et al. 2018. Texar: A', 'W. Wang, L. Qin, D. Wang, et al. 2018. Texar: A\\nmodularized, versatile, and extensible toolkit for text\\ngeneration. ACL.\\nHuggingFace. 2019. PyTorch transformer reposi-\\ntory.https://github.com/huggingface/\\npytorch-transformers .Alon Lavie and Abhaya Agarwal. 2007. Meteor: An\\nautomatic metric for mt evaluation with high levels\\nof correlation with human judgments. In Proceed-\\nings of the Second Workshop on Statistical Machine\\nTranslation , pages 228–231. Association for Com-\\nputational Linguistics.\\nJiwei Li, Michel Galley, Chris Brockett, Jianfeng\\nGao, and Bill Dolan. 2016a. A diversity-promoting\\nobjective function for neural conversation models.\\nNAACL .\\nJiwei Li, Michel Galley, Chris Brockett, Georgios P\\nSpithourakis, Jianfeng Gao, and Bill Dolan. 2016b.', 'A persona-based neural conversation model. ACL.\\nA. H. Miller, W. Feng, A. Fisch, J. Lu, D. Batra, A. Bor-\\ndes, D. Parikh, and J. Weston. 2017. ParlAI: A di-\\nalog research software platform. In Proceedings of\\nthe 2017 EMNLP System Demonstration .\\nOluwatobi Olabiyi and Erik T Mueller. 2019.\\nMulti-turn dialogue response generation with\\nautoregressive transformer models. arXiv\\npreprint:1908.01841 .\\nKishore Papineni, Salim Roukos, Todd Ward, and Wei-\\nJing Zhu. 2002. Bleu: a method for automatic eval-\\nuation of machine translation. ACL.\\nM. E. Peters, M. Neumann, M. Iyyer, M. Gardner,\\nC. Clark, K. Lee, and L. Zettlemoyer. 2018. Deep\\ncontextualized word representations. NAACL .\\nLianhui Qin, Michel Galley, Chris Brockett, Xiaodong\\nLiu, Xiang Gao, Bill Dolan, Yejin Choi, and Jian-', 'Liu, Xiang Gao, Bill Dolan, Yejin Choi, and Jian-\\nfeng Gao. 2019. Conversing by reading: Contentful\\nneural conversation with on-demand machine read-\\ning.ACL.\\nA. Radford, J. Wu, R. Child, D. Luan, D. Amodei, and\\nI. Sutskever. 2018. Language models are unsuper-\\nvised multitask learners. Technical report, OpenAI.\\nColin Raffel, Noam Shazeer, Adam Roberts, Katherine\\nLee, Sharan Narang, Michael Matena, Yanqi Zhou,\\nWei Li, and Peter J. Liu. 2019. Exploring the limits\\nof transfer learning with a uniﬁed text-to-text trans-\\nformer. arXiv preprint:1910.10683 .\\nR. Sennrich, B. Haddow, and A. Birch. 2016. Neu-\\nral machine translation of rare words with subword\\nunits. ACL.\\nIulian Vlad Serban, Alessandro Sordoni, Ryan Lowe,\\nLaurent Charlin, Joelle Pineau, Aaron Courville,', 'Laurent Charlin, Joelle Pineau, Aaron Courville,\\nand Yoshua Bengio. 2017. A hierarchical latent\\nvariable encoder-decoder model for generating di-\\nalogues. AAAI .\\nVighnesh Leonardo Shiv, Chris Quirk, Anshuman Suri,\\nXiang Gao, Khuram Shahid, Nithya Govindarajan,\\nYizhe Zhang, Jianfeng Gao, Michel Galley, Chris\\nBrockett, et al. 2019. Microsoft icecaps: An open-\\nsource toolkit for conversation modeling. ACL.', 'Ashish Vaswani, Noam Shazeer, Niki Parmar, Jakob\\nUszkoreit, Llion Jones, Aidan N Gomez, Łukasz\\nKaiser, and Illia Polosukhin. 2017. Attention is all\\nyou need. NeurIPS .\\nRonald J Williams. 1992. Simple statistical gradient-\\nfollowing algorithms for connectionist reinforce-\\nment learning. Machine learning .\\nThomas Wolf, Victor Sanh, Julien Chaumond, and\\nClement Delangue. 2019. TransferTransfo: A trans-\\nfer learning approach for neural network based con-\\nversational agents. CoRR , abs/1901.08149.\\nYizhe Zhang, Michel Galley, Jianfeng Gao, Zhe Gan,\\nXiujun Li, Chris Brockett, and Bill Dolan. 2018.\\nGenerating informative and diverse conversational\\nresponses via adversarial information maximization.\\nNeurIPS .\\nYizhe Zhang, Xiang Gao, Sungjin Lee, Chris Brockett,', 'Michel Galley, Jianfeng Gao, and Bill Dolan. 2019.\\nConsistent dialogue generation with self-supervised\\nfeature learning. arXiv preprint:1903.05759 .', 'A Additional Details of Human Evaluation\\nSigniﬁcance testing for the difference in means was performed using 10K bootstrap iterations. P-values\\nare computed at α= 0.05. The results are provided in Table 8. The differences between 345M (2) and\\n762M (6) models are not signiﬁcant. Notably also, the differences between 345M model (2) and human\\nresponse (1) are not statistically signiﬁcant. The template for human evaluation is provided in Figure 2.\\nSystem 1 System 2 Pairwise\\nMean Std 95% CI Mean Std 95% CI Std 95% CI P-Value\\n2 vs 1 Human-like 0.4527 0.0065 ( 0.4400, 0.4653 ) 0.5035 0.0065 ( 0.4909, 0.5162 ) 0.0127 (-0.0758, -0.0259 ) 0.0001\\n2 vs 1 Informativeness 0.4537 0.0065 ( 0.4410, 0.4663 ) 0.5073 0.0064 ( 0.4948, 0.5199 ) 0.0127 (-0.0785, -0.0287 ) 0.0000', '2 vs 1 Relevance 0.4452 0.0064 (0.4326, 0.4577 ) 0.4693 0.0064 ( 0.4568, 0.4819 ) 0.0124 (-0.0485, 0.0002 ) 0.0552\\n2 vs 3 Human-like 0.7597 0.0064 ( 0.7473, 0.7723 ) 0.1973 0.0059 ( 0.1858, 0.2089 ) 0.0117 ( 0.5392, 0.5852 ) 0.0000\\n2 vs 3 Informativeness 0.7659 0.0063 ( 0.7536, 0.7783 ) 0.1889 0.0058 ( 0.1777, 0.2003 ) 0.0115 ( 0.5540, 0.5993 ) 0.0000\\n2 vs 3 Relevance 0.7200 0.1935 ( 0.7070, 0.7333 ) 0.1935 0.0067 ( 0.7070, 0.7333 ) 0.0117 ( 0.5034, 0.5493 ) 0.0000\\n2 vs 4 Human-like 0.4130 0.0063 ( 0.4005, 0.4253 ) 0.5388 0.0064 ( 0.5263, 0.5514 ) 0.0124 (-0.1504, -0.1016 ) 0.0000\\n2 vs 4 Informativeness 0.4123 0.0063 ( 0.3999, 0.4246 ) 0.5448 0.0064 ( 0.5323, 0.5575 ) 0.0124 (-0.1570, -0.1082 ) 0.0000', '2 vs 4 Relevance 0.3965 0.0063 ( 0.3841, 0.4088 ) 0.5157 0.0064 ( 0.5031, 0.5281 ) 0.0122 (-0.1431, -0.0955 ) 0.0000\\n2 vs 5 Human-like 0.5388 0.0064 ( 0.5263, 0.5513 ) 0.4045 0.0063 ( 0.3921, 0.4169 ) 0.0125 ( 0.1098, 0.1587 ) 0.0000\\n2 vs 5 Informativeness 0.5383 0.0064 ( 0.5258, 0.5508 ) 0.4013 0.0063 ( 0.3890, 0.4137 ) 0.0124 ( 0.1127, 0.1611 ) 0.0000\\n2 vs 5 Relevance 0.5032 0.0064 ( 0.4906, 0.5157 ) 0.4000 0.0063 ( 0.3876, 0.4124 ) 0.0122 ( 0.079, 0.127 ) 0.0000\\n2 vs 6 Human-like 0.4745 0.0065 ( 0.4618, 0.4872 ) 0.4720 0.0064 ( 0.4596, 0.4846 ) 0.0125 (-0.0220, 0.0272 ) 0.8476\\n2 vs 6 Informativeness 0.4760 0.0064 ( 0.4634, 0.4887 ) 0.4735 0.0064 ( 0.4610, 0.4861 ) 0.0126 (-0.0221, 0.0273 ) 0.8449', '2 vs 6 Relevance 0.4543 0.0065 ( 0.4417, 0.4671 ) 0.4497 0.0064 ( 0.4372, 0.4622 ) 0.0123 (-0.0193, 0.0289 ) 0.7066\\n4 vs 1 Human-like 0.4963 0.0064 ( 0.4838, 0.5090 ) 0.4635 0.0065 ( 0.4508, 0.4762 ) 0.0127 ( 0.0081, 0.0578 ) 0.0094\\n4 vs 1 Informativeness 0.5018 0.0064 ( 0.4894, 0.5144 ) 0.4592 0.0127 ( 0.0180, 0.0676 ) 0.0127 ( 0.0180, 0.0676 ) 0.0009\\n4 vs 1 Relevance 0.4785 0.0064 ( 0.4660, 0.4911 ) 0.4345 0.0065 ( 0.4218, 0.4472 ) 0.0123 ( 0.0199, 0.0682 ) 0.0005\\nTable 8: Human evaluation signiﬁcance test. Bold results represent differences that are NOT statistically signiﬁ-\\ncant. Notation: 1 - Human response; 2 - D IALO GPT 345M; 3 - PersonalityChat; 4 - D IALO GPT 345M w/ MMI;\\n5 - D IALO GPT 345M Beam search; 6 - D IALO GPT 762M\\nFigure 2: Human evaluation template'], 'uris': None, 'data': None}\n",
      "Loading documents from src_documents\n"
     ]
    },
    {
     "name": "stderr",
     "output_type": "stream",
     "text": [
      "Loading new documents: 0it [00:00, ?it/s]"
     ]
    },
    {
     "name": "stdout",
     "output_type": "stream",
     "text": [
      "No new documents to load\n",
      "nothing to ingest\n"
     ]
    },
    {
     "name": "stderr",
     "output_type": "stream",
     "text": [
      "\n"
     ]
    }
   ],
   "source": [
    "ingestion()"
   ]
  }
 ],
 "metadata": {
  "kernelspec": {
   "display_name": "llm_document_qa",
   "language": "python",
   "name": "python3"
  },
  "language_info": {
   "codemirror_mode": {
    "name": "ipython",
    "version": 3
   },
   "file_extension": ".py",
   "mimetype": "text/x-python",
   "name": "python",
   "nbconvert_exporter": "python",
   "pygments_lexer": "ipython3",
   "version": "3.9.13"
  }
 },
 "nbformat": 4,
 "nbformat_minor": 2
}
