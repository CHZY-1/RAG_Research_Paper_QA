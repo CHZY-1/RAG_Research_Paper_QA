{
 "cells": [
  {
   "cell_type": "code",
   "execution_count": 7,
   "metadata": {},
   "outputs": [],
   "source": [
    "from dotenv import load_dotenv\n",
    "from langchain.chains import RetrievalQA\n",
    "from langchain.embeddings import HuggingFaceEmbeddings\n",
    "from langchain.callbacks.streaming_stdout import StreamingStdOutCallbackHandler\n",
    "from langchain.vectorstores import Chroma\n",
    "from langchain.llms import GPT4All, LlamaCpp\n",
    "import chromadb\n",
    "import os\n",
    "import argparse\n",
    "import time"
   ]
  },
  {
   "cell_type": "code",
   "execution_count": 8,
   "metadata": {},
   "outputs": [],
   "source": [
    "if not load_dotenv():\n",
    "    print(\"Could not load .env file or it is empty. Please check if it exists and is readable.\")\n",
    "    exit(1)"
   ]
  },
  {
   "cell_type": "code",
   "execution_count": 9,
   "metadata": {},
   "outputs": [
    {
     "data": {
      "text/plain": [
       "'all-MiniLM-L6-v2'"
      ]
     },
     "execution_count": 9,
     "metadata": {},
     "output_type": "execute_result"
    }
   ],
   "source": [
    "embeddings_model_name = os.environ.get(\"EMBEDDINGS_MODEL_NAME\")\n",
    "persist_directory = os.environ.get('PERSIST_DIRECTORY')\n",
    "\n",
    "embeddings_model_name"
   ]
  },
  {
   "cell_type": "code",
   "execution_count": 10,
   "metadata": {},
   "outputs": [],
   "source": [
    "model_type = os.environ.get('MODEL_TYPE')\n",
    "model_path = os.environ.get('MODEL_PATH')\n",
    "model_n_ctx = os.environ.get('MODEL_N_CTX')\n",
    "model_n_batch = int(os.environ.get('MODEL_N_BATCH',8))\n",
    "target_source_chunks = int(os.environ.get('TARGET_SOURCE_CHUNKS',4))"
   ]
  },
  {
   "cell_type": "code",
   "execution_count": 11,
   "metadata": {},
   "outputs": [],
   "source": [
    "from constants import CHROMA_SETTINGS"
   ]
  },
  {
   "cell_type": "code",
   "execution_count": 12,
   "metadata": {},
   "outputs": [],
   "source": [
    "def parse_arguments():\n",
    "    parser = argparse.ArgumentParser(description='privateGPT: Ask questions to your documents without an internet connection, '\n",
    "                                                 'using the power of LLMs.')\n",
    "    parser.add_argument(\"--hide-source\", \"-S\", action='store_true',\n",
    "                        help='Use this flag to disable printing of source documents used for answers.')\n",
    "\n",
    "    parser.add_argument(\"--mute-stream\", \"-M\",\n",
    "                        action='store_true',\n",
    "                        help='Use this flag to disable the streaming StdOut callback for LLMs.')\n",
    "\n",
    "    return parser.parse_args()"
   ]
  },
  {
   "cell_type": "code",
   "execution_count": 13,
   "metadata": {},
   "outputs": [],
   "source": [
    "def main():\n",
    "    # Parse the command line arguments\n",
    "    args = parse_arguments()\n",
    "    embeddings = HuggingFaceEmbeddings(model_name=embeddings_model_name)\n",
    "    chroma_client = chromadb.PersistentClient(settings=CHROMA_SETTINGS , path=persist_directory)\n",
    "    db = Chroma(persist_directory=persist_directory, embedding_function=embeddings, client_settings=CHROMA_SETTINGS, client=chroma_client)\n",
    "    retriever = db.as_retriever(search_kwargs={\"k\": target_source_chunks})\n",
    "    # activate/deactivate the streaming StdOut callback for LLMs\n",
    "    callbacks = [] if args.mute_stream else [StreamingStdOutCallbackHandler()]\n",
    "    # LLM\n",
    "    if model_type == \"LlamaCpp\":\n",
    "        llm = LlamaCpp(model_path=model_path, max_tokens=model_n_ctx, n_batch=model_n_batch, callbacks=callbacks, verbose=False)\n",
    "    elif model_type == \"GPT4All\":\n",
    "        llm = GPT4All(model=model_path, max_tokens=model_n_ctx, backend='gptj', n_batch=model_n_batch, callbacks=callbacks, verbose=False)\n",
    "    else:\n",
    "        # raise exception if model_type is not supported\n",
    "        raise Exception(f\"Model type {model_type} is not supported. Please choose one of the following: LlamaCpp, GPT4All\")\n",
    "\n",
    "    qa = RetrievalQA.from_chain_type(llm=llm, chain_type=\"stuff\", retriever=retriever, return_source_documents= not args.hide_source)\n",
    "    # Interactive questions and answers\n",
    "    while True:\n",
    "        query = input(\"\\nEnter a query: \")\n",
    "        if query == \"exit\":\n",
    "            break\n",
    "        if query.strip() == \"\":\n",
    "            continue\n",
    "\n",
    "        # Get the answer from the chain\n",
    "        start = time.time()\n",
    "        res = qa(query)\n",
    "        answer, docs = res['result'], [] if args.hide_source else res['source_documents']\n",
    "        end = time.time()\n",
    "\n",
    "        # Print the result\n",
    "        print(\"\\n\\n> Question:\")\n",
    "        print(query)\n",
    "        print(f\"\\n> Answer (took {round(end - start, 2)} s.):\")\n",
    "        print(answer)\n",
    "\n",
    "        # Print the relevant sources used for the answer\n",
    "        for document in docs:\n",
    "            print(\"\\n> \" + document.metadata[\"source\"] + \":\")\n",
    "            print(document.page_content)"
   ]
  },
  {
   "cell_type": "code",
   "execution_count": 14,
   "metadata": {},
   "outputs": [
    {
     "name": "stderr",
     "output_type": "stream",
     "text": [
      "usage: ipykernel_launcher.py [-h] [--hide-source] [--mute-stream]\n",
      "ipykernel_launcher.py: error: unrecognized arguments: --f=c:\\Users\\User\\AppData\\Roaming\\jupyter\\runtime\\kernel-v2-16452mPHeclgZr3kG.json\n"
     ]
    },
    {
     "ename": "SystemExit",
     "evalue": "2",
     "output_type": "error",
     "traceback": [
      "An exception has occurred, use %tb to see the full traceback.\n",
      "\u001b[1;31mSystemExit\u001b[0m\u001b[1;31m:\u001b[0m 2\n"
     ]
    },
    {
     "name": "stderr",
     "output_type": "stream",
     "text": [
      "c:\\Users\\User\\Desktop\\Github\\env\\llm_document_qa\\lib\\site-packages\\IPython\\core\\interactiveshell.py:3558: UserWarning: To exit: use 'exit', 'quit', or Ctrl-D.\n",
      "  warn(\"To exit: use 'exit', 'quit', or Ctrl-D.\", stacklevel=1)\n"
     ]
    }
   ],
   "source": [
    "if __name__ == \"__main__\":\n",
    "    main()"
   ]
  }
 ],
 "metadata": {
  "kernelspec": {
   "display_name": "llm_document_qa",
   "language": "python",
   "name": "python3"
  },
  "language_info": {
   "codemirror_mode": {
    "name": "ipython",
    "version": 3
   },
   "file_extension": ".py",
   "mimetype": "text/x-python",
   "name": "python",
   "nbconvert_exporter": "python",
   "pygments_lexer": "ipython3",
   "version": "3.9.13"
  }
 },
 "nbformat": 4,
 "nbformat_minor": 2
}
